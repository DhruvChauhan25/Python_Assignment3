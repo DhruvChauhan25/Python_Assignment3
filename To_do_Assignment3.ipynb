{
 "cells": [
  {
   "cell_type": "markdown",
   "id": "8ffc2474",
   "metadata": {},
   "source": [
    "1. Why are functions advantageous to have in your programs?"
   ]
  },
  {
   "cell_type": "markdown",
   "id": "d5be398a",
   "metadata": {},
   "source": [
    "Ans-1 Function help us to reutilization of code again and again."
   ]
  },
  {
   "cell_type": "markdown",
   "id": "b5b893f3",
   "metadata": {},
   "source": [
    "2. When does the code in a function run: when it&#39;s specified or when it&#39;s called?"
   ]
  },
  {
   "cell_type": "markdown",
   "id": "b878b5be",
   "metadata": {},
   "source": [
    "Ans-2 The code in a function runs when it's called"
   ]
  },
  {
   "cell_type": "markdown",
   "id": "58daa65f",
   "metadata": {},
   "source": [
    "3. What statement creates a function?"
   ]
  },
  {
   "cell_type": "code",
   "execution_count": null,
   "id": "dd95c53a",
   "metadata": {},
   "outputs": [],
   "source": [
    "The Statement the creates a function is:\n",
    "    def test():\n",
    "Above statement will creates a function"
   ]
  },
  {
   "cell_type": "markdown",
   "id": "dd95ada9",
   "metadata": {},
   "source": [
    "4. What is the difference between a function and a function call?"
   ]
  },
  {
   "cell_type": "markdown",
   "id": "15770e30",
   "metadata": {},
   "source": [
    "Ans-4 The function helps to reutilization of a same code.\n",
    "      The function call is used to call that function again and again just typing the name of a function followed by the parenthesis."
   ]
  },
  {
   "cell_type": "markdown",
   "id": "6cf11fd6",
   "metadata": {},
   "source": [
    "5. How many global scopes are there in a Python program? How many local scopes?"
   ]
  },
  {
   "cell_type": "markdown",
   "id": "ab02b623",
   "metadata": {},
   "source": [
    "A variable created outside the function is called Global scope and a variable created inside a function is called local scopes.\n",
    "we can create any number of global scopes and local scopes."
   ]
  },
  {
   "cell_type": "markdown",
   "id": "65199237",
   "metadata": {},
   "source": [
    "6. What happens to variables in a local scope when the function call returns?"
   ]
  },
  {
   "cell_type": "markdown",
   "id": "260e0e8b",
   "metadata": {},
   "source": [
    "When the function calls return the local variable is destroyed."
   ]
  },
  {
   "cell_type": "markdown",
   "id": "960b8944",
   "metadata": {},
   "source": [
    "7. What is the concept of a return value? Is it possible to have a return value in an expression?"
   ]
  },
  {
   "cell_type": "markdown",
   "id": "499f6561",
   "metadata": {},
   "source": [
    "Return value will  return a value as it is as put in return format and YES, it is possible to return value in an expression "
   ]
  },
  {
   "cell_type": "markdown",
   "id": "9bb80bee",
   "metadata": {},
   "source": [
    "8. If a function does not have a return statement, what is the return value of a call to that function?\n"
   ]
  },
  {
   "cell_type": "markdown",
   "id": "9b486680",
   "metadata": {},
   "source": [
    "It will return None"
   ]
  },
  {
   "cell_type": "markdown",
   "id": "79ecc0c4",
   "metadata": {},
   "source": [
    "9. How do you make a function variable refer to the global variable?"
   ]
  },
  {
   "cell_type": "markdown",
   "id": "6ff23334",
   "metadata": {},
   "source": [
    "we can use a function variable refer to a global variable by using a global keyword. "
   ]
  },
  {
   "cell_type": "markdown",
   "id": "4000cd28",
   "metadata": {},
   "source": [
    "10. What is the data type of None?"
   ]
  },
  {
   "cell_type": "markdown",
   "id": "92432e70",
   "metadata": {},
   "source": [
    "None is an instance of the NoneType object type. And it is a particular variable that has no object value. \n",
    "The data type of None is NoneType. "
   ]
  },
  {
   "cell_type": "code",
   "execution_count": 1,
   "id": "b38a6119",
   "metadata": {},
   "outputs": [
    {
     "name": "stdout",
     "output_type": "stream",
     "text": [
      "<class 'NoneType'>\n"
     ]
    }
   ],
   "source": [
    "print(type(None))"
   ]
  },
  {
   "cell_type": "markdown",
   "id": "c2552ff0",
   "metadata": {},
   "source": [
    "11. What does the sentence import areallyourpetsnamederic do?"
   ]
  },
  {
   "cell_type": "markdown",
   "id": "7a07309c",
   "metadata": {},
   "source": [
    "That import statement imports a module named areallyourpetsnamederic."
   ]
  },
  {
   "cell_type": "markdown",
   "id": "55436163",
   "metadata": {},
   "source": [
    "12. If you had a bacon() feature in a spam module, what would you call it after importing spam?"
   ]
  },
  {
   "cell_type": "markdown",
   "id": "6bdd7494",
   "metadata": {},
   "source": [
    "spam.bacon()"
   ]
  },
  {
   "cell_type": "markdown",
   "id": "74f3cdcc",
   "metadata": {},
   "source": [
    "13. What can you do to save a programme from crashing if it encounters an error?"
   ]
  },
  {
   "cell_type": "markdown",
   "id": "59e99e17",
   "metadata": {},
   "source": [
    "Place that line of a code in a try clause"
   ]
  },
  {
   "cell_type": "markdown",
   "id": "c0360eaf",
   "metadata": {},
   "source": [
    "14. What is the purpose of the try clause? What is the purpose of the except clause?"
   ]
  },
  {
   "cell_type": "markdown",
   "id": "fad8b91e",
   "metadata": {},
   "source": [
    "The code that could potentially cause an error goes in the try clause.\n",
    "The code that executes if an error happens goes in the except clause."
   ]
  },
  {
   "cell_type": "code",
   "execution_count": null,
   "id": "f1674134",
   "metadata": {},
   "outputs": [],
   "source": []
  }
 ],
 "metadata": {
  "kernelspec": {
   "display_name": "Python 3 (ipykernel)",
   "language": "python",
   "name": "python3"
  },
  "language_info": {
   "codemirror_mode": {
    "name": "ipython",
    "version": 3
   },
   "file_extension": ".py",
   "mimetype": "text/x-python",
   "name": "python",
   "nbconvert_exporter": "python",
   "pygments_lexer": "ipython3",
   "version": "3.9.7"
  }
 },
 "nbformat": 4,
 "nbformat_minor": 5
}
